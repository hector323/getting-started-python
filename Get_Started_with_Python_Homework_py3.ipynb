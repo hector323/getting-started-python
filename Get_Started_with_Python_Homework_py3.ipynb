{
 "cells": [
  {
   "cell_type": "markdown",
   "metadata": {},
   "source": [
    "<p><a name=\"simple\"></a></p>\n",
    "# Homework"
   ]
  },
  {
   "cell_type": "markdown",
   "metadata": {},
   "source": [
    "### Problem 1\n",
    "\n",
    "Import the math module and define a function that takes a number x and returns $\\frac{x^{2} + x^{3}}{\\sqrt{x}}$."
   ]
  },
  {
   "cell_type": "code",
   "execution_count": 436,
   "metadata": {},
   "outputs": [],
   "source": [
    "import math\n",
    "\n",
    "def ex_1(x):\n",
    "    # Your code here\n",
    "    return (x**2 + x**3) / math.sqrt(x)\n",
    "    "
   ]
  },
  {
   "cell_type": "code",
   "execution_count": 2,
   "metadata": {},
   "outputs": [
    {
     "data": {
      "text/plain": [
       "40.0"
      ]
     },
     "execution_count": 2,
     "metadata": {},
     "output_type": "execute_result"
    }
   ],
   "source": [
    "ex_1(4)"
   ]
  },
  {
   "cell_type": "markdown",
   "metadata": {},
   "source": [
    "### Problem 2\n",
    "\n",
    "Define a function that takes a list `L` and a value `v` as input. The function should return a list that the first element is v and the second element is the maximum value in L. For example:\n",
    "\n",
    "```\n",
    "L = [1,2,3,0,0]\n",
    "ex_2(L, 2) ---> [2,3]\n",
    "```"
   ]
  },
  {
   "cell_type": "code",
   "execution_count": 33,
   "metadata": {},
   "outputs": [
    {
     "data": {
      "text/plain": [
       "[2, 3]"
      ]
     },
     "execution_count": 33,
     "metadata": {},
     "output_type": "execute_result"
    }
   ],
   "source": [
    "def ex_2(L, v):\n",
    "    # Your code here\n",
    "    if v in L:\n",
    "        return [v,max(L)]\n",
    "    \n",
    "L = [1,2,3,0,0]\n",
    "v = 2\n",
    "\n",
    "ex_2(L, v)"
   ]
  },
  {
   "cell_type": "markdown",
   "metadata": {},
   "source": [
    "### Problem 3\n",
    "\n",
    "We discuss functional operators such as `map` and `filter`. They can take a function as argument.\n",
    "- Define a function `apply_to_zero()` which takes a function as input and return the whatever the function returns when passing 0 to it. More precisely, the function is like:\n",
    "```\n",
    "apply_to_zero(math.sin) ---> sin(0) ---> 0.0\n",
    "apply_to_zero(math.cos) ---> cos(0) ---> 1.0\n",
    "apply_to_zero(math.exp) ---> exp(0) ---> 1.0\n",
    "```"
   ]
  },
  {
   "cell_type": "code",
   "execution_count": 423,
   "metadata": {},
   "outputs": [],
   "source": [
    "def apply_to_zero(func):\n",
    "    # Your code here\n",
    "    return func(0)\n"
   ]
  },
  {
   "cell_type": "code",
   "execution_count": 424,
   "metadata": {},
   "outputs": [
    {
     "name": "stdout",
     "output_type": "stream",
     "text": [
      "0.0\n",
      "1.0\n",
      "1.0\n"
     ]
    }
   ],
   "source": [
    "#### Test\n",
    "import math\n",
    "\n",
    "print(apply_to_zero(math.sin))\n",
    "print(apply_to_zero(math.cos))\n",
    "print(apply_to_zero(math.exp))"
   ]
  },
  {
   "cell_type": "code",
   "execution_count": 426,
   "metadata": {},
   "outputs": [
    {
     "data": {
      "text/plain": [
       "1.0"
      ]
     },
     "execution_count": 426,
     "metadata": {},
     "output_type": "execute_result"
    }
   ],
   "source": [
    "\n",
    "math.cos(0)"
   ]
  },
  {
   "cell_type": "markdown",
   "metadata": {},
   "source": [
    "- Create a list of the function `math.sin`, `math.cos` and `math.exp`. Call this list `func_lst`."
   ]
  },
  {
   "cell_type": "code",
   "execution_count": 433,
   "metadata": {},
   "outputs": [],
   "source": [
    "# Your code here\n",
    "import math\n",
    "func_lst = [math.sin, math.cos, math.exp]"
   ]
  },
  {
   "cell_type": "markdown",
   "metadata": {},
   "source": [
    "- Apply all the functions in `func_lst` to 3. Do this with `map` and `lambda` expression."
   ]
  },
  {
   "cell_type": "code",
   "execution_count": 434,
   "metadata": {},
   "outputs": [
    {
     "data": {
      "text/plain": [
       "[0.1411200080598672, -0.9899924966004454, 20.085536923187668]"
      ]
     },
     "execution_count": 434,
     "metadata": {},
     "output_type": "execute_result"
    }
   ],
   "source": [
    "# Your code here\n",
    "\n",
    "list(map(lambda f: f(3), func_lst))"
   ]
  },
  {
   "cell_type": "markdown",
   "metadata": {
    "collapsed": true
   },
   "source": [
    "### Problem 4\n",
    "Define a function using filter to return all the lists whose length is 3 from a nested list. For example:\n",
    "```\n",
    "L = [[2, 5, 4, 9], [2, 2], [3, 4, 5]]\n",
    "ex_4(L) ---> [[3,4,5]]\n",
    "```"
   ]
  },
  {
   "cell_type": "code",
   "execution_count": 435,
   "metadata": {},
   "outputs": [
    {
     "data": {
      "text/plain": [
       "[[3, 4, 5]]"
      ]
     },
     "execution_count": 435,
     "metadata": {},
     "output_type": "execute_result"
    }
   ],
   "source": [
    "def ex_4(L):\n",
    "    # Your code here\n",
    "    for item in L:\n",
    "        if len(item) == 3:\n",
    "            return [item]\n",
    "\n",
    "L = [[2, 5, 4, 9], [2, 2], [3, 4, 5]]\n",
    "    \n",
    "ex_4(L)   "
   ]
  },
  {
   "cell_type": "markdown",
   "metadata": {},
   "source": [
    "### Problem 5"
   ]
  },
  {
   "cell_type": "markdown",
   "metadata": {},
   "source": [
    "- For the list, **Lst**, below, square all its elements."
   ]
  },
  {
   "cell_type": "code",
   "execution_count": 49,
   "metadata": {},
   "outputs": [
    {
     "name": "stdout",
     "output_type": "stream",
     "text": [
      "1\n",
      "4\n",
      "9\n"
     ]
    }
   ],
   "source": [
    "Lst = [1,2,3]\n",
    "\n",
    "# Your code here\n",
    "for num in Lst:\n",
    "    print(num**2)"
   ]
  },
  {
   "cell_type": "markdown",
   "metadata": {},
   "source": [
    "- For the nested list, **Lst**, below, square all the elements in each inner list."
   ]
  },
  {
   "cell_type": "code",
   "execution_count": 112,
   "metadata": {},
   "outputs": [
    {
     "name": "stdout",
     "output_type": "stream",
     "text": [
      "1\n",
      "4\n",
      "9\n",
      "4\n",
      "9\n",
      "16\n",
      "9\n",
      "16\n",
      "25\n"
     ]
    }
   ],
   "source": [
    "Lst = [[1,2,3],[2,3,4],[3,4,5]]\n",
    "\n",
    "# Your code here\n",
    "for item in Lst:\n",
    "    for num in item:\n",
    "        print(num**2)\n",
    "    "
   ]
  },
  {
   "cell_type": "markdown",
   "metadata": {
    "collapsed": true
   },
   "source": [
    "- For the following nested list, **Lst**, keep the first inner list, square the second and cube the last one."
   ]
  },
  {
   "cell_type": "code",
   "execution_count": 95,
   "metadata": {},
   "outputs": [
    {
     "name": "stdout",
     "output_type": "stream",
     "text": [
      "single list\n",
      "[1, 2, 3, 4, 9, 16, 9, 16, 25]\n",
      "nested list\n",
      "[[1, 2, 3], [4, 9, 16], [27, 64, 125]]\n"
     ]
    }
   ],
   "source": [
    "Lst = [[1,2,3],[2,3,4],[3,4,5]]\n",
    "\n",
    "# Your code here\n",
    "# Lst[0], Lst[1]\n",
    "def keep_sqr_cube(lst):\n",
    "    new_lst = []\n",
    "    for item in Lst[0]:\n",
    "        new_lst.append(item)\n",
    "    for item in Lst[1]:\n",
    "        new_lst.append(item**2)\n",
    "    for item in Lst[2]:\n",
    "        new_lst.append(item**2)\n",
    "    return new_lst\n",
    "\n",
    "print(\"single list\")\n",
    "print(keep_sqr_cube(Lst))\n",
    "\n",
    "def keep_sqr_cube(lst):\n",
    "    for item in Lst[0]:\n",
    "        keep_nums = [num for num in Lst[0]]\n",
    "    for item in Lst[1]:\n",
    "        squared_nums = [num**2 for num in Lst[1]]\n",
    "    for item in Lst[2]:\n",
    "        cube_nums = [num**3 for num in Lst[2]]\n",
    "    return [keep_nums, squared_nums, cube_nums]\n",
    "\n",
    "print(\"nested list\")     \n",
    "print(keep_sqr_cube(Lst))"
   ]
  },
  {
   "cell_type": "markdown",
   "metadata": {},
   "source": [
    "### Problem 6\n",
    "- The function map can be used for multiple lists. Assume the list **Lst** below record the price of 6 consecutive days. Compute the daily return. \n",
    "\n",
    "**Hint**: Since we have data for 6 days, we have only 5 daily return."
   ]
  },
  {
   "cell_type": "code",
   "execution_count": null,
   "metadata": {
    "collapsed": true
   },
   "outputs": [],
   "source": [
    "Lst=[10., 11., 12., 13., 14., 15.]\n",
    "\n",
    "# Your code here\n",
    "\n",
    "\n",
    "\n"
   ]
  },
  {
   "cell_type": "markdown",
   "metadata": {},
   "source": [
    "- Find the days with returns greater than 8%. Your code need calculate the return and also report if it's the first day, second day...etc"
   ]
  },
  {
   "cell_type": "code",
   "execution_count": null,
   "metadata": {
    "collapsed": true
   },
   "outputs": [],
   "source": [
    "# Your code here\n",
    "\n",
    "\n"
   ]
  },
  {
   "cell_type": "markdown",
   "metadata": {},
   "source": [
    "### Problem 7\n",
    "Write a function **countString** with two arguments *raw_string* and *string_to_count*. Your function should return the number of times of *string_to_count* occurs in the the *raw_string* argument. In addition, Your function should be case insensitive. \n",
    "\n",
    "[optional hints] [count](https://docs.python.org/2/library/string.html#string.count), [split](https://docs.python.org/2/library/string.html#string.split) method or [find](https://docs.python.org/2/library/string.html#string.find) method might be useful.\n",
    "\n",
    "For example, *countString('welcome to nyc(NYC) data science academy!', 'nyc')* should return 2."
   ]
  },
  {
   "cell_type": "code",
   "execution_count": 271,
   "metadata": {},
   "outputs": [
    {
     "data": {
      "text/plain": [
       "2"
      ]
     },
     "execution_count": 271,
     "metadata": {},
     "output_type": "execute_result"
    }
   ],
   "source": [
    "def countString(raw_string, string_to_count):\n",
    "    # Your code here\n",
    "    count = 0\n",
    "    s = raw_string.replace(\"(\", \" \").replace(\")\", \" \").lower().split()\n",
    "    for char in s:\n",
    "        if char == string_to_count.lower():\n",
    "            count += 1\n",
    "    \n",
    "    if count > 0:\n",
    "        return count\n",
    "    else:\n",
    "        return len(raw_string)\n",
    "\n",
    "\n",
    "string1 = \"welcome to nyc(NYC) data science academy!\"\n",
    "countString(string1, 'nyc')"
   ]
  },
  {
   "cell_type": "code",
   "execution_count": 272,
   "metadata": {},
   "outputs": [
    {
     "data": {
      "text/plain": [
       "1"
      ]
     },
     "execution_count": 272,
     "metadata": {},
     "output_type": "execute_result"
    }
   ],
   "source": [
    "countString('Welcome to nyc DATA SCIENCE ACADEMY!', 'NYC') # 1"
   ]
  },
  {
   "cell_type": "code",
   "execution_count": 273,
   "metadata": {},
   "outputs": [
    {
     "data": {
      "text/plain": [
       "2"
      ]
     },
     "execution_count": 273,
     "metadata": {},
     "output_type": "execute_result"
    }
   ],
   "source": [
    "countString('Welcome to nyc(NYC) data science academy!', 'nyc') # 2"
   ]
  },
  {
   "cell_type": "code",
   "execution_count": 274,
   "metadata": {},
   "outputs": [
    {
     "data": {
      "text/plain": [
       "41"
      ]
     },
     "execution_count": 274,
     "metadata": {},
     "output_type": "execute_result"
    }
   ],
   "source": [
    "countString('welcome to nyc(NYC) data science academy!', '') # 41 and 42 are both fine."
   ]
  },
  {
   "cell_type": "markdown",
   "metadata": {},
   "source": [
    "### Problem 8\n",
    "Write a function reverseString with an argument *raw_string*.  Your function should return a new string, reverse the *raw_string* word by word.\n",
    "\n",
    "For example *reverseString(\"welcome to NYC Data Science Academy\")* should return \"Academy Science Data NYC to welcome\"."
   ]
  },
  {
   "cell_type": "code",
   "execution_count": 420,
   "metadata": {},
   "outputs": [],
   "source": [
    "def reverseString(raw_string):\n",
    "    # Your code here\n",
    "    return \" \".join(raw_string.split(\" \")[::-1])"
   ]
  },
  {
   "cell_type": "code",
   "execution_count": 421,
   "metadata": {},
   "outputs": [
    {
     "data": {
      "text/plain": [
       "'Academy Science Data NYC to welcome'"
      ]
     },
     "execution_count": 421,
     "metadata": {},
     "output_type": "execute_result"
    }
   ],
   "source": [
    "reverseString(\"welcome to NYC Data Science Academy\") # \"Academy Science Data NYC to welcome\"."
   ]
  },
  {
   "cell_type": "code",
   "execution_count": null,
   "metadata": {},
   "outputs": [],
   "source": []
  }
 ],
 "metadata": {
  "kernelspec": {
   "display_name": "Python 3",
   "language": "python",
   "name": "python3"
  },
  "language_info": {
   "codemirror_mode": {
    "name": "ipython",
    "version": 3
   },
   "file_extension": ".py",
   "mimetype": "text/x-python",
   "name": "python",
   "nbconvert_exporter": "python",
   "pygments_lexer": "ipython3",
   "version": "3.8.3"
  }
 },
 "nbformat": 4,
 "nbformat_minor": 1
}
